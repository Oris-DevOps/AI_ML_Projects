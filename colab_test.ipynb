{
  "nbformat": 4,
  "nbformat_minor": 0,
  "metadata": {
    "colab": {
      "name": "colab_test.ipynb",
      "provenance": [],
      "collapsed_sections": [],
      "toc_visible": true,
      "authorship_tag": "ABX9TyMKOOVq2Q0k/t4PnCRtTFx5",
      "include_colab_link": true
    },
    "kernelspec": {
      "name": "python3",
      "display_name": "Python 3"
    },
    "language_info": {
      "name": "python"
    }
  },
  "cells": [
    {
      "cell_type": "markdown",
      "metadata": {
        "id": "view-in-github",
        "colab_type": "text"
      },
      "source": [
        "<a href=\"https://colab.research.google.com/github/Oris-DevOps/AI_ML_Projects/blob/main/colab_test.ipynb\" target=\"_parent\"><img src=\"https://colab.research.google.com/assets/colab-badge.svg\" alt=\"Open In Colab\"/></a>"
      ]
    },
    {
      "cell_type": "markdown",
      "metadata": {
        "id": "E0RRuyasVnZ0"
      },
      "source": [
        ""
      ]
    },
    {
      "cell_type": "markdown",
      "metadata": {
        "id": "wpBXHrN_VpJq"
      },
      "source": [
        "# New Section"
      ]
    },
    {
      "cell_type": "markdown",
      "metadata": {
        "id": "DhjBYfNtQKhW"
      },
      "source": [
        "**Testing Google Lab**"
      ]
    },
    {
      "cell_type": "code",
      "metadata": {
        "id": "ePg5ZzPyQUTb"
      },
      "source": [
        "import seaborn as sns\n",
        "import numpy as np\n",
        "import pandas as pd\n",
        "import matplotlib.pyplot as plt\n",
        "%matplotlib inline\n",
        "sns.set(color_codes=True)"
      ],
      "execution_count": 31,
      "outputs": []
    },
    {
      "cell_type": "code",
      "metadata": {
        "colab": {
          "base_uri": "https://localhost:8080/"
        },
        "id": "QWxuZCkDQas1",
        "outputId": "03e8750b-5aec-485b-c58c-98fe63aae111"
      },
      "source": [
        "narr=np.random.randn(4,4)\n",
        "print(narr)"
      ],
      "execution_count": 32,
      "outputs": [
        {
          "output_type": "stream",
          "text": [
            "[[ 0.08400882 -0.58933169  0.13158166 -0.17164453]\n",
            " [ 0.34449416  1.03502711 -0.6119893  -1.54370309]\n",
            " [ 1.88305481 -0.49581898  0.51467012 -0.9950542 ]\n",
            " [ 0.32898155 -0.76625397  1.47205283 -0.33976496]]\n"
          ],
          "name": "stdout"
        }
      ]
    },
    {
      "cell_type": "code",
      "metadata": {
        "colab": {
          "base_uri": "https://localhost:8080/",
          "height": 173
        },
        "id": "uYGoqHJDR0CI",
        "outputId": "fbfd1d1e-0f03-4ced-9339-6a86b74746cc"
      },
      "source": [
        "df=pd.DataFrame(narr)\n",
        "df"
      ],
      "execution_count": 33,
      "outputs": [
        {
          "output_type": "execute_result",
          "data": {
            "text/html": [
              "<div>\n",
              "<style scoped>\n",
              "    .dataframe tbody tr th:only-of-type {\n",
              "        vertical-align: middle;\n",
              "    }\n",
              "\n",
              "    .dataframe tbody tr th {\n",
              "        vertical-align: top;\n",
              "    }\n",
              "\n",
              "    .dataframe thead th {\n",
              "        text-align: right;\n",
              "    }\n",
              "</style>\n",
              "<table border=\"1\" class=\"dataframe\">\n",
              "  <thead>\n",
              "    <tr style=\"text-align: right;\">\n",
              "      <th></th>\n",
              "      <th>0</th>\n",
              "      <th>1</th>\n",
              "      <th>2</th>\n",
              "      <th>3</th>\n",
              "    </tr>\n",
              "  </thead>\n",
              "  <tbody>\n",
              "    <tr>\n",
              "      <th>0</th>\n",
              "      <td>0.084009</td>\n",
              "      <td>-0.589332</td>\n",
              "      <td>0.131582</td>\n",
              "      <td>-0.171645</td>\n",
              "    </tr>\n",
              "    <tr>\n",
              "      <th>1</th>\n",
              "      <td>0.344494</td>\n",
              "      <td>1.035027</td>\n",
              "      <td>-0.611989</td>\n",
              "      <td>-1.543703</td>\n",
              "    </tr>\n",
              "    <tr>\n",
              "      <th>2</th>\n",
              "      <td>1.883055</td>\n",
              "      <td>-0.495819</td>\n",
              "      <td>0.514670</td>\n",
              "      <td>-0.995054</td>\n",
              "    </tr>\n",
              "    <tr>\n",
              "      <th>3</th>\n",
              "      <td>0.328982</td>\n",
              "      <td>-0.766254</td>\n",
              "      <td>1.472053</td>\n",
              "      <td>-0.339765</td>\n",
              "    </tr>\n",
              "  </tbody>\n",
              "</table>\n",
              "</div>"
            ],
            "text/plain": [
              "          0         1         2         3\n",
              "0  0.084009 -0.589332  0.131582 -0.171645\n",
              "1  0.344494  1.035027 -0.611989 -1.543703\n",
              "2  1.883055 -0.495819  0.514670 -0.995054\n",
              "3  0.328982 -0.766254  1.472053 -0.339765"
            ]
          },
          "metadata": {
            "tags": []
          },
          "execution_count": 33
        }
      ]
    },
    {
      "cell_type": "code",
      "metadata": {
        "colab": {
          "base_uri": "https://localhost:8080/",
          "height": 173
        },
        "id": "PUvu9njqR70c",
        "outputId": "6e9900fc-0531-444d-ff53-e4865a00668b"
      },
      "source": [
        "df.columns=['Age','Sex','DOB','Height']\n",
        "df"
      ],
      "execution_count": 34,
      "outputs": [
        {
          "output_type": "execute_result",
          "data": {
            "text/html": [
              "<div>\n",
              "<style scoped>\n",
              "    .dataframe tbody tr th:only-of-type {\n",
              "        vertical-align: middle;\n",
              "    }\n",
              "\n",
              "    .dataframe tbody tr th {\n",
              "        vertical-align: top;\n",
              "    }\n",
              "\n",
              "    .dataframe thead th {\n",
              "        text-align: right;\n",
              "    }\n",
              "</style>\n",
              "<table border=\"1\" class=\"dataframe\">\n",
              "  <thead>\n",
              "    <tr style=\"text-align: right;\">\n",
              "      <th></th>\n",
              "      <th>Age</th>\n",
              "      <th>Sex</th>\n",
              "      <th>DOB</th>\n",
              "      <th>Height</th>\n",
              "    </tr>\n",
              "  </thead>\n",
              "  <tbody>\n",
              "    <tr>\n",
              "      <th>0</th>\n",
              "      <td>0.084009</td>\n",
              "      <td>-0.589332</td>\n",
              "      <td>0.131582</td>\n",
              "      <td>-0.171645</td>\n",
              "    </tr>\n",
              "    <tr>\n",
              "      <th>1</th>\n",
              "      <td>0.344494</td>\n",
              "      <td>1.035027</td>\n",
              "      <td>-0.611989</td>\n",
              "      <td>-1.543703</td>\n",
              "    </tr>\n",
              "    <tr>\n",
              "      <th>2</th>\n",
              "      <td>1.883055</td>\n",
              "      <td>-0.495819</td>\n",
              "      <td>0.514670</td>\n",
              "      <td>-0.995054</td>\n",
              "    </tr>\n",
              "    <tr>\n",
              "      <th>3</th>\n",
              "      <td>0.328982</td>\n",
              "      <td>-0.766254</td>\n",
              "      <td>1.472053</td>\n",
              "      <td>-0.339765</td>\n",
              "    </tr>\n",
              "  </tbody>\n",
              "</table>\n",
              "</div>"
            ],
            "text/plain": [
              "        Age       Sex       DOB    Height\n",
              "0  0.084009 -0.589332  0.131582 -0.171645\n",
              "1  0.344494  1.035027 -0.611989 -1.543703\n",
              "2  1.883055 -0.495819  0.514670 -0.995054\n",
              "3  0.328982 -0.766254  1.472053 -0.339765"
            ]
          },
          "metadata": {
            "tags": []
          },
          "execution_count": 34
        }
      ]
    },
    {
      "cell_type": "markdown",
      "metadata": {
        "id": "hZq0HGE3Vs7H"
      },
      "source": [
        ""
      ]
    },
    {
      "cell_type": "markdown",
      "metadata": {
        "id": "6-jw71jtVtam"
      },
      "source": [
        "# New Section"
      ]
    },
    {
      "cell_type": "code",
      "metadata": {
        "colab": {
          "base_uri": "https://localhost:8080/",
          "height": 724
        },
        "id": "8kCrAIJ3R6lO",
        "outputId": "b3fe6669-ff60-41ce-a0ea-a5f9fb8bb374"
      },
      "source": [
        "sns.pairplot(df);"
      ],
      "execution_count": 35,
      "outputs": [
        {
          "output_type": "display_data",
          "data": {
            "image/png": "[encoded data removed]",
            "text/plain": [
              "<Figure size 720x720 with 20 Axes>"
            ]
          },
          "metadata": {
            "tags": []
          }
        }
      ]
    },
    {
      "cell_type": "code",
      "metadata": {
        "colab": {
          "base_uri": "https://localhost:8080/",
          "height": 297
        },
        "id": "bIv8AvHuTmQK",
        "outputId": "e2a4e156-2a71-4ad8-d418-b1fc9977accb"
      },
      "source": [
        "df.describe()"
      ],
      "execution_count": 36,
      "outputs": [
        {
          "output_type": "execute_result",
          "data": {
            "text/html": [
              "<div>\n",
              "<style scoped>\n",
              "    .dataframe tbody tr th:only-of-type {\n",
              "        vertical-align: middle;\n",
              "    }\n",
              "\n",
              "    .dataframe tbody tr th {\n",
              "        vertical-align: top;\n",
              "    }\n",
              "\n",
              "    .dataframe thead th {\n",
              "        text-align: right;\n",
              "    }\n",
              "</style>\n",
              "<table border=\"1\" class=\"dataframe\">\n",
              "  <thead>\n",
              "    <tr style=\"text-align: right;\">\n",
              "      <th></th>\n",
              "      <th>Age</th>\n",
              "      <th>Sex</th>\n",
              "      <th>DOB</th>\n",
              "      <th>Height</th>\n",
              "    </tr>\n",
              "  </thead>\n",
              "  <tbody>\n",
              "    <tr>\n",
              "      <th>count</th>\n",
              "      <td>4.000000</td>\n",
              "      <td>4.000000</td>\n",
              "      <td>4.000000</td>\n",
              "      <td>4.000000</td>\n",
              "    </tr>\n",
              "    <tr>\n",
              "      <th>mean</th>\n",
              "      <td>0.660135</td>\n",
              "      <td>-0.204094</td>\n",
              "      <td>0.376579</td>\n",
              "      <td>-0.762542</td>\n",
              "    </tr>\n",
              "    <tr>\n",
              "      <th>std</th>\n",
              "      <td>0.823963</td>\n",
              "      <td>0.833658</td>\n",
              "      <td>0.867261</td>\n",
              "      <td>0.630390</td>\n",
              "    </tr>\n",
              "    <tr>\n",
              "      <th>min</th>\n",
              "      <td>0.084009</td>\n",
              "      <td>-0.766254</td>\n",
              "      <td>-0.611989</td>\n",
              "      <td>-1.543703</td>\n",
              "    </tr>\n",
              "    <tr>\n",
              "      <th>25%</th>\n",
              "      <td>0.267738</td>\n",
              "      <td>-0.633562</td>\n",
              "      <td>-0.054311</td>\n",
              "      <td>-1.132216</td>\n",
              "    </tr>\n",
              "    <tr>\n",
              "      <th>50%</th>\n",
              "      <td>0.336738</td>\n",
              "      <td>-0.542575</td>\n",
              "      <td>0.323126</td>\n",
              "      <td>-0.667410</td>\n",
              "    </tr>\n",
              "    <tr>\n",
              "      <th>75%</th>\n",
              "      <td>0.729134</td>\n",
              "      <td>-0.113107</td>\n",
              "      <td>0.754016</td>\n",
              "      <td>-0.297735</td>\n",
              "    </tr>\n",
              "    <tr>\n",
              "      <th>max</th>\n",
              "      <td>1.883055</td>\n",
              "      <td>1.035027</td>\n",
              "      <td>1.472053</td>\n",
              "      <td>-0.171645</td>\n",
              "    </tr>\n",
              "  </tbody>\n",
              "</table>\n",
              "</div>"
            ],
            "text/plain": [
              "            Age       Sex       DOB    Height\n",
              "count  4.000000  4.000000  4.000000  4.000000\n",
              "mean   0.660135 -0.204094  0.376579 -0.762542\n",
              "std    0.823963  0.833658  0.867261  0.630390\n",
              "min    0.084009 -0.766254 -0.611989 -1.543703\n",
              "25%    0.267738 -0.633562 -0.054311 -1.132216\n",
              "50%    0.336738 -0.542575  0.323126 -0.667410\n",
              "75%    0.729134 -0.113107  0.754016 -0.297735\n",
              "max    1.883055  1.035027  1.472053 -0.171645"
            ]
          },
          "metadata": {
            "tags": []
          },
          "execution_count": 36
        }
      ]
    },
    {
      "cell_type": "code",
      "metadata": {
        "colab": {
          "base_uri": "https://localhost:8080/"
        },
        "id": "aDIscJKMU74C",
        "outputId": "40561657-07c3-402a-d017-7a12121a2366"
      },
      "source": [
        "df.info"
      ],
      "execution_count": 37,
      "outputs": [
        {
          "output_type": "execute_result",
          "data": {
            "text/plain": [
              "<bound method DataFrame.info of         Age       Sex       DOB    Height\n",
              "0  0.084009 -0.589332  0.131582 -0.171645\n",
              "1  0.344494  1.035027 -0.611989 -1.543703\n",
              "2  1.883055 -0.495819  0.514670 -0.995054\n",
              "3  0.328982 -0.766254  1.472053 -0.339765>"
            ]
          },
          "metadata": {
            "tags": []
          },
          "execution_count": 37
        }
      ]
    },
    {
      "cell_type": "code",
      "metadata": {
        "colab": {
          "base_uri": "https://localhost:8080/",
          "height": 302
        },
        "id": "QOjVO62NU9jG",
        "outputId": "569c1839-1c54-49e3-ba4a-7c8fb6c12f23"
      },
      "source": [
        "sns.regplot(x=df[\"Age\"],y=df['Sex'])"
      ],
      "execution_count": 39,
      "outputs": [
        {
          "output_type": "execute_result",
          "data": {
            "text/plain": [
              "<matplotlib.axes._subplots.AxesSubplot at 0x7ff3b294cc90>"
            ]
          },
          "metadata": {
            "tags": []
          },
          "execution_count": 39
        },
        {
          "output_type": "display_data",
          "data": {
            "image/png": "[encoded data removed]",
            "text/plain": [
              "<Figure size 432x288 with 1 Axes>"
            ]
          },
          "metadata": {
            "tags": []
          }
        }
      ]
    },
    {
      "cell_type": "code",
      "metadata": {
        "colab": {
          "base_uri": "https://localhost:8080/",
          "height": 339
        },
        "id": "smnjEzYYXDJP",
        "outputId": "0d7a452b-123f-4c1c-e6b3-c15bb448eabe"
      },
      "source": [
        "sns.boxplot(df['Age']);"
      ],
      "execution_count": 41,
      "outputs": [
        {
          "output_type": "stream",
          "text": [
            "/usr/local/lib/python3.7/dist-packages/seaborn/_decorators.py:43: FutureWarning: Pass the following variable as a keyword arg: x. From version 0.12, the only valid positional argument will be `data`, and passing other arguments without an explicit keyword will result in an error or misinterpretation.\n",
            "  FutureWarning\n"
          ],
          "name": "stderr"
        },
        {
          "output_type": "display_data",
          "data": {
            "image/png": "[encoded data removed]",
            "text/plain": [
              "<Figure size 432x288 with 1 Axes>"
            ]
          },
          "metadata": {
            "tags": []
          }
        }
      ]
    }
  ]
}